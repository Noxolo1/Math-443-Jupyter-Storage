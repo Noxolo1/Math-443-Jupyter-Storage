{
 "cells": [
  {
   "cell_type": "code",
   "execution_count": 2,
   "id": "204bd5dc",
   "metadata": {},
   "outputs": [
    {
     "name": "stdout",
     "output_type": "stream",
     "text": [
      "iterations:  8\n",
      "x and y:  8.159067075518965e-17 0.9999999999999999\n"
     ]
    }
   ],
   "source": [
    "from __future__ import division\n",
    "import numpy as np\n",
    "import scipy.linalg as sla\n",
    " \n",
    "def broyden_good(x, y, f_equations, J_equations, tol=10e-10, maxIters=50):\n",
    "    \n",
    "    steps_taken = 0\n",
    " \n",
    "    f = f_equations(x,y)\n",
    "    J = J_equations(x,y)\n",
    " \n",
    "    while np.linalg.norm(f,2) > tol and steps_taken < maxIters:\n",
    " \n",
    "        s = sla.solve(J,-1*f)\n",
    " \n",
    "        x = x + s[0]\n",
    "        y = y + s[1]\n",
    "        newf = f_equations(x,y)\n",
    "        z = newf - f\n",
    " \n",
    "        J = J + (np.outer ((z - np.dot(J,s)),s)) / (np.dot(s,s))\n",
    " \n",
    "        f = newf\n",
    "        steps_taken += 1\n",
    " \n",
    "    return steps_taken, x, y  \n",
    " \n",
    "tol = 10.0** -15\n",
    "maxIters = 50\n",
    "x0 = 1\n",
    "y0 = 2\n",
    " \n",
    "#define functions\n",
    "def fs(x,y):\n",
    "    return np.array([x + 2*y - 2, x**2 + 4*y**2 - 4])\n",
    " \n",
    "\n",
    "def Js(x,y):\n",
    "    return np.array([[1,2],\n",
    "             [2, 16]])\n",
    " \n",
    "n, x, y = broyden_good(x0, y0, fs, Js, tol, maxIters=50 )\n",
    "\n",
    "\n",
    "print (\"iterations: \", n)\n",
    "print (\"x and y: \", x, y)"
   ]
  },
  {
   "cell_type": "code",
   "execution_count": null,
   "id": "9bf7ce26",
   "metadata": {},
   "outputs": [],
   "source": []
  }
 ],
 "metadata": {
  "kernelspec": {
   "display_name": "Python 3 (ipykernel)",
   "language": "python",
   "name": "python3"
  },
  "language_info": {
   "codemirror_mode": {
    "name": "ipython",
    "version": 3
   },
   "file_extension": ".py",
   "mimetype": "text/x-python",
   "name": "python",
   "nbconvert_exporter": "python",
   "pygments_lexer": "ipython3",
   "version": "3.9.13"
  }
 },
 "nbformat": 4,
 "nbformat_minor": 5
}
