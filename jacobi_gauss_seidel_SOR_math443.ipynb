{
 "cells": [
  {
   "cell_type": "code",
   "execution_count": 1,
   "id": "6ed8aa9c",
   "metadata": {},
   "outputs": [
    {
     "name": "stdout",
     "output_type": "stream",
     "text": [
      "[-0.0903222 0.1225808 1.6258064]\n",
      "9\n"
     ]
    }
   ],
   "source": [
    "import numpy as np\n",
    "import sys\n",
    "\n",
    "def gsMethod(A, b, xn):\n",
    "    # Inputs: A, b, xn\n",
    "    # Outputs: xnp1\n",
    "    N = len(xn)\n",
    "    xnp1 = np.zeros(xn.shape)\n",
    "    for j in range(0, N):\n",
    "        sum = 0\n",
    "        for k in range(0, N):\n",
    "            if k < j:\n",
    "                sum = sum + A[j, k]*xnp1[k]\n",
    "            elif k > j:\n",
    "                sum = sum + A[j, k]*xn[k]\n",
    "        xnp1[j] = (b[j] - sum)/A[j, j]\n",
    "    return xnp1\n",
    "\n",
    "\n",
    "#x1 = np.array([7, 9, 3, 10, 6])\n",
    "#x2 = np.array([-3,1,-1,-4])\n",
    "#x3 = np.array([-3,1,-1,-4])\n",
    "#x4 = np.diag(x1, 0)\n",
    "#x5 = np.diag(x2, 1)\n",
    "#x6 = np.diag(x3,-1)\n",
    "\n",
    "A = np.array([[2,-1,0],[-1,4,2],[0,2,6]])\n",
    "\n",
    "xn = np.array([0,0,0])\n",
    "\n",
    "xn1 = xn\n",
    "\n",
    "b = np.array([[-1],[3],[5]])\n",
    "\n",
    "counter = 0\n",
    "\n",
    "# gs method\n",
    "for i in range(sys.maxsize):\n",
    "    xn = gsMethod(A, b, xn)\n",
    "    counter += 1\n",
    "    if(np.linalg.norm((xn1 - xn), np.inf) < 5*10**-6):\n",
    "        break\n",
    "    xn1 = xn\n",
    "print(np.array2string(xn, formatter={'float_kind': '{0:.7f}'.format}))\n",
    "print(counter)"
   ]
  },
  {
   "cell_type": "code",
   "execution_count": 2,
   "id": "1116db95",
   "metadata": {},
   "outputs": [
    {
     "name": "stdout",
     "output_type": "stream",
     "text": [
      "[-0.3529418 0.2941197 0.7352946]\n",
      "21\n"
     ]
    }
   ],
   "source": [
    "import numpy as np\n",
    "import sys\n",
    "\n",
    "# Do one step of Jacobi's method.\n",
    "def jacobi(A, b, xn):\n",
    "    # Inputs: A, b, xn\n",
    "    # Outputs: xnp1\n",
    "    N = len(xn)\n",
    "    xnp1 = np.zeros(xn.shape)\n",
    "    for j in range(0, N):\n",
    "        sum = 0\n",
    "        for k in range(0, N):\n",
    "            if k != j:\n",
    "                sum = sum + A[j, k]*xn[k]\n",
    "        xnp1[j] = (b[j] - sum)/A[j, j]\n",
    "    return xnp1\n",
    "\n",
    "#x1 = np.array([7, 9, 3, 10, 6])\n",
    "#x2 = np.array([-3,1,-1,-4])\n",
    "#x3 = np.array([-3,1,-1,-4])\n",
    "#x4 = np.diag(x1, 0)\n",
    "#x5 = np.diag(x2, 1)\n",
    "#x6 = np.diag(x3,-1)\n",
    "\n",
    "A = np.array([[2,-1,0],[-1,4,2],[0,2,6]])\n",
    "\n",
    "xn = np.array([0,0,0])\n",
    "\n",
    "xn1 = xn\n",
    "\n",
    "b = np.array([[-1],[3],[5]])\n",
    "\n",
    "counter = 0\n",
    "\n",
    "# jacobi method\n",
    "for i in range(sys.maxsize):\n",
    "    xn = jacobi(A, b, xn)\n",
    "    counter += 1\n",
    "    if(np.linalg.norm((xn1 - xn), np.inf) < 5*10**-6):\n",
    "        break\n",
    "    xn1 = xn\n",
    "print(np.array2string(xn, formatter={'float_kind': '{0:.7f}'.format}))\n",
    "print(counter)"
   ]
  },
  {
   "cell_type": "code",
   "execution_count": 2,
   "id": "2b5db0ae",
   "metadata": {},
   "outputs": [
    {
     "name": "stdout",
     "output_type": "stream",
     "text": [
      "[1.0040993 2.0251355 2.8513108 3.7985695 4.7900050]\n",
      "10\n"
     ]
    }
   ],
   "source": [
    "import numpy as np\n",
    "import sys\n",
    "\n",
    "def sor(A, b, xn, w):\n",
    "    # Inputs: A, b, xn\n",
    "    # Outputs: xnp1\n",
    "    N = len(xn)\n",
    "    xnp1 = np.zeros(xn.shape)\n",
    "    for j in range(0, N):\n",
    "        sum = 0\n",
    "        for k in range(0, N):\n",
    "            if k < j:\n",
    "                sum = sum + A[j, k]*xnp1[k]\n",
    "            elif k > j:\n",
    "                sum = sum + A[j, k]*xn[k]\n",
    "\n",
    "        xnp1[j] = w*(b[j] - sum)/A[j, j] + (1-w)*xn[j]\n",
    "    return xnp1\n",
    "\n",
    "\n",
    "x1 = np.array([7, 9, 3, 10, 6])\n",
    "x2 = np.array([-3,1,-1,-4])\n",
    "x3 = np.array([-3,1,-1,-4])\n",
    "x4 = np.diag(x1, 0)\n",
    "x5 = np.diag(x2, 1)\n",
    "x6 = np.diag(x3,-1)\n",
    "\n",
    "A = x4 + x5 + x6\n",
    "\n",
    "xn = np.array([0,0,0,0,0])\n",
    "\n",
    "xn1 = xn\n",
    "\n",
    "b = np.array([[1],[18],[7], [17], [14]])\n",
    "\n",
    "counter = 0\n",
    "\n",
    "# SOR method\n",
    "for i in range(10):\n",
    "    xn = sor(A, b, xn, 1/2)\n",
    "    counter += 1\n",
    "    #if(np.linalg.norm((xn1 - xn), np.inf) < 5*10**-6):\n",
    "    #    break\n",
    "    xn1 = xn\n",
    "print(np.array2string(xn, formatter={'float_kind': '{0:.7f}'.format}))\n",
    "print(counter)"
   ]
  }
 ],
 "metadata": {
  "kernelspec": {
   "display_name": "Python 3 (ipykernel)",
   "language": "python",
   "name": "python3"
  },
  "language_info": {
   "codemirror_mode": {
    "name": "ipython",
    "version": 3
   },
   "file_extension": ".py",
   "mimetype": "text/x-python",
   "name": "python",
   "nbconvert_exporter": "python",
   "pygments_lexer": "ipython3",
   "version": "3.9.12"
  }
 },
 "nbformat": 4,
 "nbformat_minor": 5
}
