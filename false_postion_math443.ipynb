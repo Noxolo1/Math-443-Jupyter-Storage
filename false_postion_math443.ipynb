{
 "cells": [
  {
   "cell_type": "code",
   "execution_count": 27,
   "id": "899eb5e2",
   "metadata": {},
   "outputs": [
    {
     "name": "stdout",
     "output_type": "stream",
     "text": [
      "\n",
      "Root is : 1.33333333\n",
      "\n",
      "Root is : 1.40000000\n",
      "\n",
      "Root is : 1.41176471\n",
      "\n",
      "Root is : 1.41379310\n",
      "5\n"
     ]
    },
    {
     "data": {
      "text/plain": [
       "1.414141414141414"
      ]
     },
     "execution_count": 27,
     "metadata": {},
     "output_type": "execute_result"
    }
   ],
   "source": [
    "# Define the function in question here\n",
    "def f(x):\n",
    "    return x**2 - 2\n",
    "\n",
    "\n",
    "# Define the main code here.\n",
    "# Inputs\n",
    "#   (a, b): initial enclosing interval\n",
    "#   tol: tolerance under which |f(z)| will trigger a stopping condition\n",
    "# Outputs\n",
    "#   z: the root\n",
    "\n",
    "def main(a, b, tol):\n",
    "    # Your code here\n",
    "\n",
    "    z = 0\n",
    "    d = 0\n",
    "\n",
    "    for i in range(0, 100000):\n",
    "        \n",
    "        d += 1\n",
    "\n",
    "        xm = ((f(b)*a) - (f(a)*b))/(f(b) - f(a))\n",
    "\n",
    "        if (f(xm) * f(b)) < 0:\n",
    "            a = xm\n",
    "        else:\n",
    "            b = xm\n",
    "\n",
    "        z = xm\n",
    "\n",
    "        if abs(f(z)) <= tol:\n",
    "            break\n",
    "\n",
    "        print('\\nRoot is : %0.8f' % z)\n",
    "    print(d)\n",
    "    return z\n",
    "\n",
    "main(1,2,.001)"
   ]
  },
  {
   "cell_type": "code",
   "execution_count": 7,
   "id": "c110fa92",
   "metadata": {},
   "outputs": [
    {
     "name": "stdout",
     "output_type": "stream",
     "text": [
      "0.5677052787829812\n",
      "-0.0008806267644225763\n"
     ]
    }
   ],
   "source": [
    "import math\n",
    "\n",
    "def f(x):\n",
    "    return math.exp(-x) - x\n",
    "\n",
    "def xm(a,b):\n",
    "    return ((f(b)*a) - (f(a)*b))/(f(b) - f(a))\n",
    "    \n",
    "a = xm(0,0.5722) \n",
    "\n",
    "print(a)\n",
    "\n",
    "print(f(a))"
   ]
  },
  {
   "cell_type": "code",
   "execution_count": null,
   "id": "34583995",
   "metadata": {},
   "outputs": [],
   "source": []
  }
 ],
 "metadata": {
  "kernelspec": {
   "display_name": "Python 3 (ipykernel)",
   "language": "python",
   "name": "python3"
  },
  "language_info": {
   "codemirror_mode": {
    "name": "ipython",
    "version": 3
   },
   "file_extension": ".py",
   "mimetype": "text/x-python",
   "name": "python",
   "nbconvert_exporter": "python",
   "pygments_lexer": "ipython3",
   "version": "3.9.13"
  }
 },
 "nbformat": 4,
 "nbformat_minor": 5
}
