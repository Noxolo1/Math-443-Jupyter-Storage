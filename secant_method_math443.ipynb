{
 "cells": [
  {
   "cell_type": "code",
   "execution_count": 8,
   "id": "98d50a2b",
   "metadata": {},
   "outputs": [
    {
     "name": "stdout",
     "output_type": "stream",
     "text": [
      "\n",
      "Root is : 2.71111111\n",
      "\n",
      "Root is : 2.87109050\n",
      "\n",
      "Root is : 3.22192345\n",
      "\n",
      "Root is : 3.00497126\n",
      "\n",
      "Root is : 3.03791933\n",
      "\n",
      "Root is : 3.04721050\n",
      "7\n"
     ]
    },
    {
     "data": {
      "text/plain": [
       "3.046674099930864"
      ]
     },
     "execution_count": 8,
     "metadata": {},
     "output_type": "execute_result"
    }
   ],
   "source": [
    "# Define the function in question here (you may also want to define the derivative)\n",
    "def f(x):\n",
    "    return x**3 - 6*x**2 + 11*x - 6.1\n",
    "\n",
    "# Define the main code here.\n",
    "# Inputs\n",
    "#   p0: initial guess of root\n",
    "#   tol: tolerance under which |f(z)| will trigger a stopping condition\n",
    "# Outputs\n",
    "#   z: the root\n",
    "\n",
    "def main(p0, p1, tol):\n",
    "    \n",
    "    pnm1 = p0\n",
    "    pn = p1\n",
    "    \n",
    "    for i in range(100000):\n",
    "        \n",
    "        pnPlus = pn - f(pn)*(pn-pnm1)/(f(pn)-f(pnm1))\n",
    "        \n",
    "        pnm1 = pn\n",
    "        pn = pnPlus\n",
    "        \n",
    "        z = pnPlus\n",
    "        \n",
    "        if abs(f(z)) < tol:\n",
    "            break\n",
    "    \n",
    "    print('\\nRoot is : %0.8f' % z)\n",
    "    return z\n",
    "\n",
    "main(2.5,3.5,.001)"
   ]
  },
  {
   "cell_type": "code",
   "execution_count": null,
   "id": "d18d5f07",
   "metadata": {},
   "outputs": [],
   "source": []
  }
 ],
 "metadata": {
  "kernelspec": {
   "display_name": "Python 3 (ipykernel)",
   "language": "python",
   "name": "python3"
  },
  "language_info": {
   "codemirror_mode": {
    "name": "ipython",
    "version": 3
   },
   "file_extension": ".py",
   "mimetype": "text/x-python",
   "name": "python",
   "nbconvert_exporter": "python",
   "pygments_lexer": "ipython3",
   "version": "3.9.13"
  }
 },
 "nbformat": 4,
 "nbformat_minor": 5
}
