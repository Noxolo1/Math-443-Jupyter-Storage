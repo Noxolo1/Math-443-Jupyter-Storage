{
 "cells": [
  {
   "cell_type": "code",
   "execution_count": 28,
   "id": "cf7d14bd",
   "metadata": {},
   "outputs": [
    {
     "name": "stdout",
     "output_type": "stream",
     "text": [
      "\n",
      "Root is : 1.50000000\n",
      "\n",
      "Root is : 1.25000000\n",
      "\n",
      "Root is : 1.37500000\n",
      "\n",
      "Root is : 1.43750000\n",
      "\n",
      "Root is : 1.40625000\n",
      "\n",
      "Root is : 1.42187500\n",
      "7\n"
     ]
    },
    {
     "data": {
      "text/plain": [
       "1.4140625"
      ]
     },
     "execution_count": 28,
     "metadata": {},
     "output_type": "execute_result"
    }
   ],
   "source": [
    "# Define the function in question here\n",
    "def f(x):\n",
    "    return x**2 - 2\n",
    "\n",
    "\n",
    "# Define the main code here.\n",
    "# Inputs\n",
    "#   (a, b): initial enclosing interval\n",
    "#   tol: tolerance under which |f(z)| will trigger a stopping condition\n",
    "# Outputs\n",
    "#   z: the root\n",
    "\n",
    "def main(a, b, tol):\n",
    "    # Your code here\n",
    "\n",
    "    z = 0\n",
    "    d = 0\n",
    "    \n",
    "    for i in range(0, 100000):\n",
    "        \n",
    "        midPoint = (a + b) / 2\n",
    "        \n",
    "        d += 1\n",
    "\n",
    "        if (f(midPoint) * f(b)) < 0:\n",
    "            a = midPoint\n",
    "        else:\n",
    "            b = midPoint\n",
    "\n",
    "        z = midPoint\n",
    "\n",
    "        if abs(f(z)) <= tol:\n",
    "            break\n",
    "\n",
    "        print('\\nRoot is : %0.8f' % z)\n",
    "    print(d)\n",
    "    return z\n",
    "\n",
    "\n",
    "main(1,2,.001)"
   ]
  },
  {
   "cell_type": "code",
   "execution_count": null,
   "id": "d3c23f78",
   "metadata": {},
   "outputs": [],
   "source": []
  }
 ],
 "metadata": {
  "kernelspec": {
   "display_name": "Python 3 (ipykernel)",
   "language": "python",
   "name": "python3"
  },
  "language_info": {
   "codemirror_mode": {
    "name": "ipython",
    "version": 3
   },
   "file_extension": ".py",
   "mimetype": "text/x-python",
   "name": "python",
   "nbconvert_exporter": "python",
   "pygments_lexer": "ipython3",
   "version": "3.9.13"
  }
 },
 "nbformat": 4,
 "nbformat_minor": 5
}
