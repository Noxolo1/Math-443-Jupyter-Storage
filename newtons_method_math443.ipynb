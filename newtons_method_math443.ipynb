{
 "cells": [
  {
   "cell_type": "code",
   "execution_count": 21,
   "id": "534e290f",
   "metadata": {},
   "outputs": [
    {
     "name": "stdout",
     "output_type": "stream",
     "text": [
      "\n",
      "Root is : 3.19130435\n",
      "\n",
      "Root is : 3.06869882\n",
      "\n",
      "Root is : 3.04731674\n",
      "\n",
      "Root is : 3.04668109\n",
      "5\n"
     ]
    },
    {
     "data": {
      "text/plain": [
       "3.0466805318050256"
      ]
     },
     "execution_count": 21,
     "metadata": {},
     "output_type": "execute_result"
    }
   ],
   "source": [
    "# Define the function in question here (you may also want to define the derivative)\n",
    "def f(x):\n",
    "    return x**3 - 6*x**2 + 11*x -6.1\n",
    "\n",
    "def df(x):\n",
    "    return 3*x**2 - 12*x + 11\n",
    "\n",
    "# Define the main code here.\n",
    "# Inputs\n",
    "#   p0: initial guess of root\n",
    "#   tol: tolerance under which |f(z)| will trigger a stopping condition\n",
    "# Outputs\n",
    "#   z: the root\n",
    "\n",
    "def main(p0, tol):\n",
    "    \n",
    "    pn = p0\n",
    "    d = 0\n",
    "    \n",
    "    for i in range(100000):\n",
    "        \n",
    "        d += 1\n",
    "        \n",
    "        pnPlus = pn - (f(pn)/df(pn))\n",
    "        \n",
    "        pn = pnPlus\n",
    "        \n",
    "        z = pnPlus\n",
    "        \n",
    "        if abs(f(z)) < tol:\n",
    "            break\n",
    "    \n",
    "        print('\\nRoot is : %0.8f' % z)\n",
    "        \n",
    "    print(d)\n",
    "    return z\n",
    "\n",
    "main(3.5,.000001)\n",
    "\n"
   ]
  },
  {
   "cell_type": "code",
   "execution_count": 8,
   "id": "1b0d9fa6",
   "metadata": {},
   "outputs": [
    {
     "name": "stdout",
     "output_type": "stream",
     "text": [
      "0.05188044960376281\n",
      "2.426351503608174\n"
     ]
    }
   ],
   "source": [
    "print(f(3.06869882))\n",
    "print(df(3.06869882))"
   ]
  },
  {
   "cell_type": "code",
   "execution_count": null,
   "id": "f224bd06",
   "metadata": {},
   "outputs": [],
   "source": []
  }
 ],
 "metadata": {
  "kernelspec": {
   "display_name": "Python 3 (ipykernel)",
   "language": "python",
   "name": "python3"
  },
  "language_info": {
   "codemirror_mode": {
    "name": "ipython",
    "version": 3
   },
   "file_extension": ".py",
   "mimetype": "text/x-python",
   "name": "python",
   "nbconvert_exporter": "python",
   "pygments_lexer": "ipython3",
   "version": "3.9.13"
  }
 },
 "nbformat": 4,
 "nbformat_minor": 5
}
